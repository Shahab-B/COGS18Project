{
 "cells": [
  {
   "cell_type": "markdown",
   "metadata": {},
   "source": [
    "# Project Description"
   ]
  },
  {
   "cell_type": "markdown",
   "metadata": {},
   "source": [
    "The general functionality of this program will use an Amazon Alexa device to read the first three posts on the COGS18 piazza discussion board.\n",
    "\n",
    "Follow these steps in order to properly run this skill.\n",
    "1. Install Ngrok\n",
    "    1. Go to https://ngrok.com/download\n",
    "    2. Note that you want to install it in the same directory as the files in order to call it cmd easier.\n",
    "2. Open a command terminal and enter 'ngrok http 5000'\n",
    "3. Open the config.json file in the same file location as app.py and create\n",
    "    a dictionary with the first two elements being your piazza login \n",
    "    information and the third being the api_type as \"json\".\n",
    "4. Open a second command terminal and run the python code provided, 'app.py'\n",
    "5. Go to https://developer.amazon.com/alexa/console/ask\n",
    "    1. Sign in to your amazon account that is associated with your alexa device\n",
    "    2. Create a skill to be associated with this program.\n",
    "    3. Provide phrases for the Yes and No Intents\n",
    "    4. Navigate to endpoint and enter the https://XXXXXXXX.ngrok.io address\n",
    "        provided when you ran step 2 of the overrall program. Place the address\n",
    "        in both the default and the north america region https and select them\n",
    "        both as subdomains.\n",
    "    5. Click on Build to go back to the skill's checklist and click \n",
    "        'Build Model' if it builds successfully then everything should work.\n",
    "6. If you don't have an Alexa navigate to the test tab to ask alexa questions.\n",
    "7. Type or ask Alexa to 'launch piazza' She will confirm this by asking you\n",
    "    to respond with a yes or no intent. If yes she will provide you with the\n",
    "    three latest piazza posts, otherwise she will end the program."
   ]
  }
 ],
 "metadata": {
  "kernelspec": {
   "display_name": "Python 3",
   "language": "python",
   "name": "python3"
  },
  "language_info": {
   "codemirror_mode": {
    "name": "ipython",
    "version": 3
   },
   "file_extension": ".py",
   "mimetype": "text/x-python",
   "name": "python",
   "nbconvert_exporter": "python",
   "pygments_lexer": "ipython3",
   "version": "3.7.1"
  }
 },
 "nbformat": 4,
 "nbformat_minor": 2
}
